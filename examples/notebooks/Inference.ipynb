{
 "cells": [
  {
   "cell_type": "code",
   "execution_count": 1,
   "id": "loved-bookmark",
   "metadata": {
    "ExecuteTime": {
     "end_time": "2021-03-25T08:24:06.230743Z",
     "start_time": "2021-03-25T08:24:06.215592Z"
    }
   },
   "outputs": [],
   "source": [
    "%config Completer.use_jedi = False"
   ]
  },
  {
   "cell_type": "code",
   "execution_count": 2,
   "id": "seeing-munich",
   "metadata": {
    "ExecuteTime": {
     "end_time": "2021-03-25T08:24:06.461134Z",
     "start_time": "2021-03-25T08:24:06.448528Z"
    }
   },
   "outputs": [],
   "source": [
    "%load_ext autoreload\n",
    "%autoreload 2"
   ]
  },
  {
   "cell_type": "code",
   "execution_count": 3,
   "id": "southern-rally",
   "metadata": {
    "ExecuteTime": {
     "end_time": "2021-03-25T08:24:07.821565Z",
     "start_time": "2021-03-25T08:24:06.725950Z"
    }
   },
   "outputs": [
    {
     "name": "stderr",
     "output_type": "stream",
     "text": [
      "/usr/local/lib/python3.6/dist-packages/torchaudio/backend/utils.py:54: UserWarning: \"sox\" backend is being deprecated. The default backend will be changed to \"sox_io\" backend in 0.8.0 and \"sox\" backend will be removed in 0.9.0. Please migrate to \"sox_io\" backend. Please refer to https://github.com/pytorch/audio/issues/903 for the detail.\n",
      "  '\"sox\" backend is being deprecated. '\n"
     ]
    }
   ],
   "source": [
    "import os\n",
    "\n",
    "from IPython.display import Audio\n",
    "\n",
    "import numpy as np\n",
    "\n",
    "import torch\n",
    "from torch.utils.data import DataLoader\n",
    "\n",
    "from vocabulary import Vocab, get_blank_index\n",
    "\n",
    "from src.deepspeech import Model\n",
    "from src.inference import InferenceModel\n",
    "from src.audio_utils import get_default_audio_transforms, SpectrogramTransform\n",
    "from src.datasets import AudioDataset, AudioDatasetSampler, AudioDataloaderWrapper\n",
    "from src.datasets import collate_fn, convert_libri_manifest_to_common_voice"
   ]
  },
  {
   "cell_type": "code",
   "execution_count": 4,
   "id": "moral-extra",
   "metadata": {
    "ExecuteTime": {
     "end_time": "2021-03-25T08:24:07.961861Z",
     "start_time": "2021-03-25T08:24:07.823937Z"
    }
   },
   "outputs": [],
   "source": [
    "# Set proper device for computations,\n",
    "dtype, device, cuda_device_id = torch.float32, None, 2\n",
    "os.environ[\"CUDA_VISIBLE_DEVICES\"] = '{0}'.format(str(cuda_device_id) if cuda_device_id is not None else '')\n",
    "if cuda_device_id is not None and torch.cuda.is_available():\n",
    "    device = 'cuda:{0:d}'.format(0)\n",
    "else:\n",
    "    device = torch.device('cpu')"
   ]
  },
  {
   "cell_type": "code",
   "execution_count": 15,
   "id": "elder-priority",
   "metadata": {
    "ExecuteTime": {
     "end_time": "2021-03-25T08:28:25.126413Z",
     "start_time": "2021-03-25T08:28:12.802483Z"
    }
   },
   "outputs": [
    {
     "name": "stderr",
     "output_type": "stream",
     "text": [
      "Using cache found in /root/.cache/torch/hub/pytorch_fairseq_master\n"
     ]
    }
   ],
   "source": [
    "model = InferenceModel(\n",
    "    checkpoint_path='/home/mnakhodnov/sirius-stt/models/8_recovered_v3/epoch_13.pt', device=device,\n",
    "    rescore=True\n",
    ")"
   ]
  },
  {
   "cell_type": "code",
   "execution_count": 16,
   "id": "sustainable-label",
   "metadata": {
    "ExecuteTime": {
     "end_time": "2021-03-25T08:28:33.935958Z",
     "start_time": "2021-03-25T08:28:26.312453Z"
    }
   },
   "outputs": [
    {
     "name": "stdout",
     "output_type": "stream",
     "text": [
      "раз два три четыре пэт\n"
     ]
    },
    {
     "data": {
      "text/html": [
       "\n",
       "                <audio  controls=\"controls\" >\n",
       "                    <source src=\"data:audio/ogg;base64,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\" type=\"audio/ogg\" />\n",
       "                    Your browser does not support the audio element.\n",
       "                </audio>\n",
       "              "
      ],
      "text/plain": [
       "<IPython.lib.display.Audio object>"
      ]
     },
     "execution_count": 16,
     "metadata": {},
     "output_type": "execute_result"
    }
   ],
   "source": [
    "audio_path = '/home/bot/sirius-stt-bot/audio/nakhodnov17/9.ogg'\n",
    "print(model.run(audio_path))\n",
    "Audio(audio_path)"
   ]
  }
 ],
 "metadata": {
  "kernelspec": {
   "display_name": "Python 3",
   "language": "python",
   "name": "python3"
  },
  "language_info": {
   "codemirror_mode": {
    "name": "ipython",
    "version": 3
   },
   "file_extension": ".py",
   "mimetype": "text/x-python",
   "name": "python",
   "nbconvert_exporter": "python",
   "pygments_lexer": "ipython3",
   "version": "3.6.9"
  }
 },
 "nbformat": 4,
 "nbformat_minor": 5
}
